{
 "cells": [
  {
   "cell_type": "code",
   "execution_count": 1,
   "id": "26718d35-6e89-4e9f-9b89-88c35c6f7caf",
   "metadata": {},
   "outputs": [
    {
     "name": "stdout",
     "output_type": "stream",
     "text": [
      "nobi\n"
     ]
    }
   ],
   "source": [
    "# Delete any reoccurring character from a string, and print the new string.\n",
    "\n",
    "\n",
    "\n",
    "sentence = \"noobin\"\n",
    "new_sentence = \"\"\n",
    "\n",
    "\n",
    "\n",
    "for i in sentence:\n",
    "\tcount = 0 \n",
    "\tfor j in new_sentence:\n",
    "\t\tif i == j:\n",
    "\t\t\tcount = count + 1\n",
    "\t\t\tbreak\n",
    "\n",
    "\tif count == 0:\n",
    "\t\tnew_sentence = new_sentence + i\n",
    "\n",
    "\n",
    "print(new_sentence)"
   ]
  },
  {
   "cell_type": "code",
   "execution_count": 2,
   "id": "a7ea94a7-74d6-4cfd-a610-2424f77f3a2c",
   "metadata": {},
   "outputs": [
    {
     "name": "stdout",
     "output_type": "stream",
     "text": [
      "Split string:  Hello\n",
      "Split string:  World!\n",
      "Split string:  My\n",
      "Split string:  Name\n",
      "Split string:  is\n",
      "Split string:  Nobin\n"
     ]
    }
   ],
   "source": [
    "#Write a Python program to split strings using newline delimiter\n",
    "# Get user input\n",
    "user_input = \"Hello\\nWorld!\\nMy\\nName\\nis\\nNobin\"\n",
    "\n",
    "\n",
    "# Initialize an empty list to store the split strings\n",
    "split_strings = []\n",
    "\n",
    "# Iterate through each character in the input string\n",
    "current_string = \" \"\n",
    "for char in user_input:\n",
    "    # Check for newline character\n",
    "    if char == '\\n':\n",
    "        # Print the current string and reset for the next string\n",
    "        print(\"Split string:\", current_string)\n",
    "        current_string = \" \"\n",
    "    else:\n",
    "        # Add the character to the current string\n",
    "        current_string = current_string + char\n",
    "\n",
    "# Print the last string\n",
    "print(\"Split string:\", current_string)"
   ]
  },
  {
   "cell_type": "code",
   "execution_count": 3,
   "id": "c836bf34-aaaf-41a5-a4e0-f0475ba0862f",
   "metadata": {},
   "outputs": [
    {
     "name": "stdout",
     "output_type": "stream",
     "text": [
      "231988\n"
     ]
    }
   ],
   "source": [
    "# Write a Python program to extract digits from given string\n",
    "\n",
    "sentence = \"My brithday is 23rd January 1988\"\n",
    "\n",
    "digit = \"\"\n",
    "\n",
    "for element in sentence:\n",
    "\tif '0' <= element <= '9':\n",
    "\t\tdigit = digit + element\n",
    "\n",
    "print(digit)"
   ]
  },
  {
   "cell_type": "code",
   "execution_count": 4,
   "id": "dcee3fa6-a58a-4871-8ce8-db236f5ed9ed",
   "metadata": {},
   "outputs": [
    {
     "name": "stdout",
     "output_type": "stream",
     "text": [
      "2\n"
     ]
    }
   ],
   "source": [
    "# Write a Python program to print number of specific words in a given sentence\n",
    "\n",
    "sentence = \"Write a Python program to print number of words in a given sentence\"\n",
    "words = sentence.split()\n",
    "#print(words)\n",
    "word_count = 0\n",
    "for word in words:\n",
    "\tif word == 'a':\n",
    "\t\tword_count = word_count + 1\n",
    "print(word_count)"
   ]
  },
  {
   "cell_type": "code",
   "execution_count": 5,
   "id": "6f9eac33-3248-4f60-92a0-c25f51714952",
   "metadata": {},
   "outputs": [
    {
     "name": "stdout",
     "output_type": "stream",
     "text": [
      "Deleted string:  Rahman\n",
      "My name is Nobin\n"
     ]
    }
   ],
   "source": [
    "# Delete the last word from the string \n",
    "a = \"My name is Nobin Rahman\"\n",
    "len_a = len(a)\n",
    "#print(len_a)\n",
    "last_index = 0 \n",
    "for i in range (len(a) -1, -1, -1):\n",
    "    if a[i] == ' ':\n",
    "        last_index = i\n",
    "        break\n",
    "# Delete the last word\n",
    "print('Deleted string:',a[last_index:])\n",
    "a = a[:last_index]\n",
    "print(a)"
   ]
  },
  {
   "cell_type": "code",
   "execution_count": 6,
   "id": "a5b8332f-9510-4763-81de-198da7f28ae0",
   "metadata": {},
   "outputs": [
    {
     "name": "stdout",
     "output_type": "stream",
     "text": [
      "He\n",
      "el\n",
      "ll\n",
      "lo\n",
      "o,\n",
      ", \n",
      " W\n",
      "Wo\n",
      "or\n",
      "rl\n",
      "ld\n",
      "d!\n"
     ]
    }
   ],
   "source": [
    "# slice Hello, World! to  He el ll lo 0, ,W Wo or rl ld d!\n",
    "message = \"Hello, World!\"\n",
    "\n",
    "for i in range(len(message)-1):\n",
    "\tprint(message[i:i+2])"
   ]
  },
  {
   "cell_type": "code",
   "execution_count": 7,
   "id": "a427d712-8c9d-4b4d-b754-2df9c46a1483",
   "metadata": {},
   "outputs": [
    {
     "name": "stdout",
     "output_type": "stream",
     "text": [
      "['H', 'a', 'n', 'n', 'a', 'h']\n",
      "['h', 'a', 'n', 'n', 'a', 'H']\n",
      "hannaH\n"
     ]
    }
   ],
   "source": [
    "# Write a function that reverses a string. The input string is given as an array of characters s.\n",
    "\n",
    "# You must do this by modifying the input array in-place with O(1) extra memory.\n",
    "\n",
    " \n",
    "\n",
    "# Example 1:\n",
    "\n",
    "# Input: s = [\"h\",\"e\",\"l\",\"l\",\"o\"]\n",
    "# Output: [\"o\",\"l\",\"l\",\"e\",\"h\"]\n",
    "# Example 2:\n",
    "\n",
    "# Input: s = [\"H\",\"a\",\"n\",\"n\",\"a\",\"h\"]\n",
    "# Output: [\"h\",\"a\",\"n\",\"n\",\"a\",\"H\"]\n",
    "\n",
    "\n",
    "#s = [\"H\",\"a\",\"n\",\"n\",\"a\",\"h\"]\n",
    "\n",
    "s = 'Hannah'\n",
    "s_list = []\n",
    "for char in s:\n",
    "\ts_list.append(char)\n",
    "\n",
    "print(s_list)\n",
    "\n",
    "#print(s[::-1])\n",
    "\n",
    "new_s = []\n",
    "for i in range (len(s)-1, -1,-1):\n",
    "\tnew_s.append(s[i])\n",
    "\n",
    "print(new_s)\n",
    "\n",
    "new_str = ''\n",
    "\n",
    "for i in new_s:\n",
    "\tnew_str = new_str + i\n",
    "\n",
    "print(new_str)"
   ]
  },
  {
   "cell_type": "code",
   "execution_count": 12,
   "id": "6ab1d6ed-55b7-4812-aa4e-ae0d82347762",
   "metadata": {},
   "outputs": [
    {
     "name": "stdout",
     "output_type": "stream",
     "text": [
      "['programming', 'python', 'to', 'welcome']\n",
      "programming python to welcome \n"
     ]
    }
   ],
   "source": [
    "# Reverse a string\n",
    "\n",
    "str = \"welcome to python programming\"\n",
    "\n",
    "reverese_string = str.split()[::-1]\n",
    "print(reverese_string)\n",
    "\n",
    "\n",
    "new_str = ''\n",
    "\n",
    "for i in reverese_string:\n",
    "\n",
    "    new_str= new_str + i + \" \"\n",
    "\n",
    "print(new_str)\n"
   ]
  },
  {
   "cell_type": "code",
   "execution_count": 8,
   "id": "e39efea4-3c23-44f6-b9de-a41408fb05bd",
   "metadata": {},
   "outputs": [
    {
     "name": "stdout",
     "output_type": "stream",
     "text": [
      "0\n",
      "The first occurrence of 'sad' in 'sadbutsad' is at index 0.\n",
      "0\n",
      "6\n"
     ]
    }
   ],
   "source": [
    "#  Find the Index of the First Occurrence in a String\n",
    "\n",
    "# Given two strings needle and haystack, return the index of the first occurrence of needle in haystack, or -1 if needle is not part of haystack.\n",
    "\n",
    " \n",
    "\n",
    "# Example 1:\n",
    "\n",
    "# Input: haystack = \"sadbutsad\", needle = \"sad\"\n",
    "# Output: 0\n",
    "# Explanation: \"sad\" occurs at index 0 and 6.\n",
    "# The first occurrence is at index 0, so we return 0.\n",
    "# Example 2:\n",
    "\n",
    "# Input: haystack = \"leetcode\", needle = \"leeto\"\n",
    "# Output: -1\n",
    "# Explanation: \"leeto\" did not occur in \"leetcode\", so we return -1.\n",
    "\n",
    "haystack = \"sadbutsad\"\n",
    "needle = \"sad\"\n",
    "\n",
    "#### 1st Method ####\n",
    "index = haystack.find(needle)\n",
    "print(index)\n",
    "\n",
    "if index != -1:\n",
    "    print(f\"The first occurrence of '{needle}' in '{haystack}' is at index {index}.\")\n",
    "else:\n",
    "    print(f\"'{needle}' is not found in '{haystack}'.\")\n",
    "\n",
    "#### 2nd Method ####\n",
    "haystack_len= len(haystack)\n",
    "\n",
    "needle_len = len(needle)\n",
    "\n",
    "count = 0 \n",
    "for i in range (haystack_len - needle_len + 1):\n",
    "    if (haystack[i:i + needle_len]) == needle:\n",
    "        count = count + 1\n",
    "        print(i)\n",
    "\n",
    "if count == 0: \n",
    "    print(-1)"
   ]
  },
  {
   "cell_type": "code",
   "execution_count": 9,
   "id": "a265e9be-d7e7-4e22-b3ec-ebe48125df04",
   "metadata": {},
   "outputs": [
    {
     "name": "stdout",
     "output_type": "stream",
     "text": [
      "2\n",
      "v\n"
     ]
    }
   ],
   "source": [
    "# Given a string s, find the first non-repeating character in it and return its index. If it does not exist, return -1.\n",
    "\n",
    "# Example 1:\n",
    "\n",
    "# Input: s = \"leetcode\"\n",
    "# Output: 0\n",
    "# Example 2:\n",
    "\n",
    "# Input: s = \"loveleetcode\"\n",
    "# Output: 2\n",
    "# Example 3:\n",
    "\n",
    "# Input: s = \"aabb\"\n",
    "# Output: -1\n",
    "\n",
    "\n",
    "s = \"loveleetcode\"\n",
    "n = len(s)\n",
    "\n",
    "for i in range(0,n):\n",
    "    count = 0\n",
    "    for j in range(0,n):\n",
    "        if s[i] == s[j]:\n",
    "            count = count + 1\n",
    "    if count == 1:\n",
    "        print(i)\n",
    "        print(s[i])\n",
    "        break\n",
    "else: \n",
    "    print(-1)"
   ]
  },
  {
   "cell_type": "code",
   "execution_count": 10,
   "id": "bcfdcb4e-0515-4c83-a415-ab9647be5e85",
   "metadata": {},
   "outputs": [
    {
     "name": "stdout",
     "output_type": "stream",
     "text": [
      "[4, 9]\n"
     ]
    }
   ],
   "source": [
    "# Intersection of Array\n",
    "\n",
    "num1 = [4,9,5]\n",
    "num2 = [9,4,9,8,4]\n",
    "result = []\n",
    "for num in num1:\n",
    "    if num in num2:\n",
    "        result.append(num)\n",
    "\n",
    "print(result)"
   ]
  }
 ],
 "metadata": {
  "kernelspec": {
   "display_name": "Python 3 (ipykernel)",
   "language": "python",
   "name": "python3"
  },
  "language_info": {
   "codemirror_mode": {
    "name": "ipython",
    "version": 3
   },
   "file_extension": ".py",
   "mimetype": "text/x-python",
   "name": "python",
   "nbconvert_exporter": "python",
   "pygments_lexer": "ipython3",
   "version": "3.9.7"
  }
 },
 "nbformat": 4,
 "nbformat_minor": 5
}
