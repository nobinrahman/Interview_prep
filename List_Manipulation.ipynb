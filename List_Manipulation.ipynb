{
 "cells": [
  {
   "cell_type": "code",
   "execution_count": 3,
   "id": "b6418fd6-bead-47ec-9369-626174eb100b",
   "metadata": {},
   "outputs": [
    {
     "name": "stdout",
     "output_type": "stream",
     "text": [
      "Duplicates in the list: [1, 2, -2, -3, 3]\n",
      "Unique List: [1, 2, -2, -3, 3, 4, 5, 6, 7, 8, 9, 10]\n"
     ]
    }
   ],
   "source": [
    "# Find duplicate in the list\n",
    "\n",
    "a = [1, 2, 2, -2, -3, -3, 3, 4, 5, 6, 7, 8, 9, 10, 1, -2, 3]\n",
    "duplicates = []\n",
    "\n",
    "for i in range(len(a)):\n",
    "    for j in range(i + 1, len(a)):\n",
    "        if a[i] == a[j] and a[i] not in duplicates:\n",
    "            duplicates.append(a[i])\n",
    "\n",
    "print(\"Duplicates in the list:\", duplicates)\n",
    "\n",
    "# Remove duplicate from the list \n",
    "unique_list = []\n",
    "\n",
    "for item in a:\n",
    "    if item not in unique_list:\n",
    "        unique_list.append(item)\n",
    "\n",
    "print(f\"Unique List: {unique_list}\")"
   ]
  },
  {
   "cell_type": "code",
   "execution_count": 4,
   "id": "0efb8f41-4ff2-43fd-9714-9433141f8f7c",
   "metadata": {},
   "outputs": [
    {
     "name": "stdout",
     "output_type": "stream",
     "text": [
      "False\n"
     ]
    }
   ],
   "source": [
    "# Given an integer array nums, return true if any value appears at least twice in the array, and return false if every element is distinct.\n",
    "\n",
    "# Example 1:\n",
    "\n",
    "# Input: nums = [1,2,3,1]\n",
    "# Output: true\n",
    "# Example 2:\n",
    "\n",
    "# Input: nums = [1,2,3,4]\n",
    "# Output: false\n",
    "# Example 3:\n",
    "\n",
    "# Input: nums = [1,1,1,3,3,4,3,2,4,2]\n",
    "# Output: true\n",
    "\n",
    "def contain_duplicate(nums):\n",
    "\tflag = None\n",
    "\tfor i in range(len(nums)):\n",
    "\t\tfor j in range(i+1, len(nums)):\n",
    "\t\t\tif nums[i] == nums[j]:\n",
    "\t\t\t\treturn True\n",
    "\treturn False\n",
    "nums =[1,2,3,4]\n",
    "x = contain_duplicate(nums)\n",
    "print(x)"
   ]
  },
  {
   "cell_type": "code",
   "execution_count": 7,
   "id": "01d075af-2e82-46de-b832-0b04687ccb97",
   "metadata": {},
   "outputs": [
    {
     "name": "stdout",
     "output_type": "stream",
     "text": [
      "[1, 3, 12, 0, 0]\n",
      "[1, 3, 12, 0, 0]\n",
      "[0, 0, 12, 1, 3]\n",
      "[1, 3, 12, 0, 0]\n"
     ]
    }
   ],
   "source": [
    "# Given an integer array nums, move all 0's to the end of it while maintaining the relative order of the non-zero elements.\n",
    "# Note that you must do this in-place without making a copy of the array.\n",
    "# Example 1:\n",
    "\n",
    "# Input: nums = [0,1,0,3,12]\n",
    "# Output: [1,3,12,0,0]\n",
    "# Example 2:\n",
    "\n",
    "# Input: nums = [0]\n",
    "# Output: [0]\n",
    "\n",
    "nums = [0,1,0,3,12]\n",
    "\n",
    "for i in range(0, len(nums)):\n",
    "    if nums[i] == 0:\n",
    "        nums.remove(0)\n",
    "        nums.append(0)\n",
    "\n",
    "print(nums)\n",
    "\n",
    "def moving_zeros_to_right(nums):\n",
    "    count = 0 \n",
    "    for i in range(len(nums)):\n",
    "        if nums[i] != 0:\n",
    "            nums[count], nums[i] = nums[i], nums[count]\n",
    "            count = count + 1\n",
    "    return nums\n",
    "\n",
    "nums = [0, 1, 0, 3, 12]\n",
    "x = moving_zeros_to_right(nums)\n",
    "print(x)\n",
    "\n",
    "def moving_zeros_to_left(nums):\n",
    "    count = 0 \n",
    "    for i in range(len(nums)-1,-1,-1):\n",
    "        if nums[i] != 0:\n",
    "            nums[count], nums[i] = nums[i], nums[count]\n",
    "            count = count - 1\n",
    "    return nums\n",
    "\n",
    "nums = [0, 1, 0, 3, 12]\n",
    "x = moving_zeros_to_left(nums)\n",
    "print(x)\n",
    "\n",
    "def sorted_move_zero(nums):\n",
    "\tnon_zero = []\n",
    "\tfor num in nums:\n",
    "\t\tif num != 0:\n",
    "\t\t\tnon_zero.append(num)\n",
    "\tnon_zero.sort()\n",
    "\t#print (non_zero)\n",
    "\tzero_count = nums.count(0)\n",
    "\t#print (zero_count)\n",
    "\t\n",
    "\tsorted_nums = non_zero + [0] * zero_count\n",
    "\n",
    "\treturn sorted_nums\n",
    "\n",
    "nums = [0, 1, 0, 3, 12]\n",
    "x = sorted_move_zero(nums)\n",
    "print((x))"
   ]
  },
  {
   "cell_type": "code",
   "execution_count": 8,
   "id": "d65ee25d-f529-4484-9785-4274e8e44cc1",
   "metadata": {},
   "outputs": [
    {
     "name": "stdout",
     "output_type": "stream",
     "text": [
      "[1, 2, 4, 1, 3, 4]\n",
      "Ascending Order: [1, 1, 2, 3, 4, 4]\n",
      "[4, 4, 3, 2, 1, 1]\n"
     ]
    }
   ],
   "source": [
    "# You are given the heads of two sorted linked lists list1 and list2.\n",
    "\n",
    "# Merge the two lists into one sorted list. The list should be made by splicing together the nodes of the first two lists.\n",
    "\n",
    "# Return the head of the merged linked list.\n",
    "\n",
    "# Example 1 \n",
    "# Input: list1 = [1,2,4], list2 = [1,3,4]\n",
    "# Output: [1,1,2,3,4,4]\n",
    "# Example 2:\n",
    "\n",
    "# Input: list1 = [], list2 = []\n",
    "# Output: []\n",
    "# Example 3:\n",
    "\n",
    "# Input: list1 = [], list2 = [0]\n",
    "# Output: [0]\n",
    "\n",
    "list1 = [1,2,4]\n",
    "\n",
    "list2 = [1,3,4]\n",
    "\n",
    "output = list1 + list2\n",
    "\n",
    "print (output)\n",
    "\n",
    "ascending_order = sorted(output)\n",
    "print(\"Ascending Order:\", ascending_order)\n",
    "decending_order = sorted(output, reverse=True)\n",
    "print(decending_order)"
   ]
  },
  {
   "cell_type": "code",
   "execution_count": 9,
   "id": "998970e7-7f2f-46a2-b6ca-dbda75490383",
   "metadata": {},
   "outputs": [
    {
     "name": "stdout",
     "output_type": "stream",
     "text": [
      "The Number 4 has occured 2 times\n"
     ]
    }
   ],
   "source": [
    "# Count Occurances of an elements in a list \n",
    "a = [1, 2, 4, 5, 4, 10, 20, 30, 40, 5, 5, 5]\n",
    "\n",
    "element = 4 \n",
    "count = 0 \n",
    "n = len(a)\n",
    "for i in range(0,n):\n",
    "\tif a[i] == element:\t\n",
    "\t\tcount+= 1\n",
    "#Another method of printing \n",
    "print('The Number {} has occured {} times'.format(element,count))"
   ]
  },
  {
   "cell_type": "code",
   "execution_count": 10,
   "id": "2c5c8f9c-1ae3-47d6-9ed6-c1ed5bbaa509",
   "metadata": {},
   "outputs": [
    {
     "name": "stdout",
     "output_type": "stream",
     "text": [
      "[1, 2, 4, 5, 4, 10, 20, 30, 40, 5]\n"
     ]
    }
   ],
   "source": [
    "# Finding Nth Occurance in a list and delete it \n",
    "\n",
    "a = [1, 2, 4, 5, 4, 10, 20, 30, 40, 5, 5, 5]\n",
    "\n",
    "element_to_remove = 5\n",
    "count = 0\n",
    "\n",
    "# Create a new list to store the filtered elements\n",
    "filtered_list = []\n",
    "\n",
    "for item in a:\n",
    "    if item == element_to_remove:\n",
    "        count += 1\n",
    "        if count <= 2:\n",
    "            filtered_list.append(item)\n",
    "    else:\n",
    "        filtered_list.append(item)\n",
    "\n",
    "a = filtered_list\n",
    "print(a)"
   ]
  },
  {
   "cell_type": "code",
   "execution_count": 11,
   "id": "9d01d713-a7f2-456a-85cc-7baa4f698f4b",
   "metadata": {},
   "outputs": [
    {
     "name": "stdout",
     "output_type": "stream",
     "text": [
      "10\n",
      "200\n",
      "[200, 2, 3, 4, 50, 100, 5, 6, 7, 8, 10]\n"
     ]
    }
   ],
   "source": [
    "# Swap 1st and last number in a list \n",
    "\n",
    "\n",
    "my_list = [10,2,3,4,50,100,5,6,7,8,200]\n",
    "\n",
    "length_of_list = len(my_list)\n",
    "\n",
    "#print(length_of_list)\n",
    "\n",
    "first_element = my_list.pop(0)\n",
    "\n",
    "print(first_element)\n",
    "\n",
    "a = int(length_of_list) - 2\n",
    "last_element = my_list.pop(a)\n",
    "\n",
    "print(last_element)\n",
    "my_list.append(first_element)\n",
    "\n",
    "my_list.insert(0,last_element)\n",
    "\n",
    "print(my_list)"
   ]
  },
  {
   "cell_type": "code",
   "execution_count": 12,
   "id": "8a045df1-d775-4f2f-8942-c2520458a674",
   "metadata": {},
   "outputs": [
    {
     "name": "stdout",
     "output_type": "stream",
     "text": [
      "Subarray 1: [1, 2, 3, 4]\n",
      "Subarray 2: [5, 5]\n"
     ]
    }
   ],
   "source": [
    "# Split and array \n",
    "my_array = [1, 2, 3, 4, 5, 5]\n",
    "\n",
    "total_sum = sum(my_array)\n",
    "current_sum = 0\n",
    "split_index = None\n",
    "\n",
    "for i in range(len(my_array)):\n",
    "    current_sum += my_array[i]\n",
    "    if current_sum == total_sum - current_sum:\n",
    "        split_index = i + 1\n",
    "        break\n",
    "\n",
    "if split_index is not None:\n",
    "    subarray1 = my_array[:split_index]\n",
    "    subarray2 = my_array[split_index:]\n",
    "    print(\"Subarray 1:\", subarray1)\n",
    "    print(\"Subarray 2:\", subarray2)\n",
    "else:\n",
    "    print(\"No split point found to have equal sum.\")\n"
   ]
  },
  {
   "cell_type": "code",
   "execution_count": 13,
   "id": "a724a7cc-89f0-4ed4-a007-983b84952e7a",
   "metadata": {},
   "outputs": [
    {
     "name": "stdout",
     "output_type": "stream",
     "text": [
      "30\n",
      "2\n",
      "30\n",
      "2\n"
     ]
    }
   ],
   "source": [
    "# Max and Min or an array\n",
    "\n",
    "# hint: compare 10 and 20 and then 20 and 30 and then 30 and 5 and then 5 and 2 \n",
    "\n",
    "arr = [10,20,30,5,2,10,25,22,15,18]\n",
    "\n",
    "# Find Max of an array\n",
    "max_value = arr[0]\n",
    "n = len(arr)\n",
    "for i in range (1, n):\n",
    "    if arr[i]>max_value:\n",
    "        max_value = arr[i]\n",
    "print (max_value)\n",
    "\n",
    "\n",
    "# Find Min of an array\n",
    "min_value = arr[0]\n",
    "for i in range(1,n):\n",
    "    if arr[i]<min_value:\n",
    "        min_value = arr[i]\n",
    "print(min_value)\n",
    "\n",
    "\n",
    "#Find max of an array\n",
    "print(max(arr))\n",
    "#Find min of an array\n",
    "print(min(arr))"
   ]
  }
 ],
 "metadata": {
  "kernelspec": {
   "display_name": "Python 3 (ipykernel)",
   "language": "python",
   "name": "python3"
  },
  "language_info": {
   "codemirror_mode": {
    "name": "ipython",
    "version": 3
   },
   "file_extension": ".py",
   "mimetype": "text/x-python",
   "name": "python",
   "nbconvert_exporter": "python",
   "pygments_lexer": "ipython3",
   "version": "3.9.7"
  }
 },
 "nbformat": 4,
 "nbformat_minor": 5
}
